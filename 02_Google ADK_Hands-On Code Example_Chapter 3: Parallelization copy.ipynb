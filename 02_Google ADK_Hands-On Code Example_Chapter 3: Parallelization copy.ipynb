{
 "cells": [
  {
   "cell_type": "markdown",
   "id": "aa75e20f",
   "metadata": {},
   "source": [
    "# Chapter 3: Parallelization"
   ]
  },
  {
   "cell_type": "markdown",
   "id": "9e967a2a",
   "metadata": {},
   "source": [
    "## Hands-On Code Example (Google ADK)"
   ]
  },
  {
   "cell_type": "markdown",
   "id": "9b420faf",
   "metadata": {},
   "source": [
    "> Adapted and modified from https://docs.google.com/document/d/1XVMp4RcRkoUJTVbrP2foWZX703CUJpWkrhyFU2cfUOA/edit?tab=t.0#heading=h.gzxyfhsu2k1x\n",
    "> \n",
    "> Mo 29 Sep 2025 13:47:55 BST"
   ]
  },
  {
   "cell_type": "markdown",
   "id": "f40024e8",
   "metadata": {},
   "source": [
    "Okay, let's now turn our attention to a concrete example illustrating these concepts within the Google ADK framework. We'll examine how the ADK primitives, such as ParallelAgent and SequentialAgent, can be applied to build an agent flow that leverages concurrent execution for improved efficiency."
   ]
  },
  {
   "cell_type": "code",
   "execution_count": 1,
   "id": "d65aff99",
   "metadata": {},
   "outputs": [],
   "source": [
    "from google.adk.agents import LlmAgent, ParallelAgent, SequentialAgent\n",
    "from google.adk.tools import google_search\n",
    "GEMINI_MODEL=\"gemini-2.0-flash\" "
   ]
  },
  {
   "cell_type": "code",
   "execution_count": 2,
   "id": "cdfba819",
   "metadata": {},
   "outputs": [],
   "source": [
    "# --- 1. Define Researcher Sub-Agents (to run in parallel) ---\n",
    "\n",
    "# Researcher 1: Renewable Energy\n",
    "researcher_agent_1 = LlmAgent(\n",
    "    name=\"RenewableEnergyResearcher\",\n",
    "    model=GEMINI_MODEL,\n",
    "    instruction=\"\"\"You are an AI Research Assistant specializing in energy.\n",
    "Research the latest advancements in 'renewable energy sources'.\n",
    "Use the Google Search tool provided.\n",
    "Summarize your key findings concisely (1-2 sentences).\n",
    "Output *only* the summary.\n",
    "\"\"\",\n",
    "    description=\"Researches renewable energy sources.\",\n",
    "    tools=[google_search],\n",
    "    # Store result in state for the merger agent\n",
    "    output_key=\"renewable_energy_result\"\n",
    ")\n",
    "\n",
    "# Researcher 2: Electric Vehicles\n",
    "researcher_agent_2 = LlmAgent(\n",
    "    name=\"EVResearcher\",\n",
    "    model=GEMINI_MODEL,\n",
    "    instruction=\"\"\"You are an AI Research Assistant specializing in transportation.\n",
    "Research the latest developments in 'electric vehicle technology'.\n",
    "Use the Google Search tool provided.\n",
    "Summarize your key findings concisely (1-2 sentences).\n",
    "Output *only* the summary.\n",
    "\"\"\",\n",
    "    description=\"Researches electric vehicle technology.\",\n",
    "    tools=[google_search],\n",
    "    # Store result in state for the merger agent\n",
    "    output_key=\"ev_technology_result\"\n",
    ")\n",
    "\n",
    "# Researcher 3: Carbon Capture\n",
    "researcher_agent_3 = LlmAgent(\n",
    "    name=\"CarbonCaptureResearcher\",\n",
    "    model=GEMINI_MODEL,\n",
    "    instruction=\"\"\"You are an AI Research Assistant specializing in climate solutions.\n",
    "Research the current state of 'carbon capture methods'.\n",
    "Use the Google Search tool provided.\n",
    "Summarize your key findings concisely (1-2 sentences).\n",
    "Output *only* the summary.\n",
    "\"\"\",\n",
    "    description=\"Researches carbon capture methods.\",\n",
    "    tools=[google_search],\n",
    "    # Store result in state for the merger agent\n",
    "    output_key=\"carbon_capture_result\"\n",
    ")"
   ]
  },
  {
   "cell_type": "code",
   "execution_count": 3,
   "id": "887dd235",
   "metadata": {},
   "outputs": [],
   "source": [
    "# --- 2. Create the ParallelAgent (Runs researchers concurrently) ---\n",
    "# This agent orchestrates the concurrent execution of the researchers.\n",
    "# It finishes once all researchers have completed and stored their results in state.\n",
    "parallel_research_agent = ParallelAgent(\n",
    "    name=\"ParallelWebResearchAgent\",\n",
    "    sub_agents=[researcher_agent_1, researcher_agent_2, researcher_agent_3],\n",
    "    description=\"Runs multiple research agents in parallel to gather information.\"\n",
    ")"
   ]
  },
  {
   "cell_type": "code",
   "execution_count": 4,
   "id": "1d66565e",
   "metadata": {},
   "outputs": [],
   "source": [
    "# --- 3. Define the Merger Agent (Runs *after* the parallel agents) ---\n",
    "# This agent takes the results stored in the session state by the parallel agents\n",
    "# and synthesizes them into a single, structured response with attributions.\n",
    "merger_agent = LlmAgent(\n",
    "    name=\"SynthesisAgent\",\n",
    "    model=GEMINI_MODEL,  # Or potentially a more powerful model if needed for synthesis\n",
    "    instruction=\"\"\"You are an AI Assistant responsible for combining research findings into a structured report.\n",
    "Your primary task is to synthesize the following research summaries, clearly attributing findings to their source areas. Structure your response using headings for each topic. Ensure the report is coherent and integrates the key points smoothly.\n",
    "\n",
    "**Crucially: Your entire response MUST be grounded *exclusively* on the information provided in the 'Input Summaries' below. Do NOT add any external knowledge, facts, or details not present in these specific summaries.**\n",
    "\n",
    "**Input Summaries:**\n",
    "\n",
    "*   **Renewable Energy:**\n",
    "    {renewable_energy_result}\n",
    "*   **Electric Vehicles:**\n",
    "    {ev_technology_result}\n",
    "*   **Carbon Capture:**\n",
    "    {carbon_capture_result}\n",
    "\n",
    "**Output Format:**\n",
    "\n",
    "## Summary of Recent Sustainable Technology Advancements\n",
    "\n",
    "### Renewable Energy Findings\n",
    "(Based on RenewableEnergyResearcher's findings)\n",
    "[Synthesize and elaborate *only* on the renewable energy input summary provided above.]\n",
    "\n",
    "### Electric Vehicle Findings\n",
    "(Based on EVResearcher's findings)\n",
    "[Synthesize and elaborate *only* on the EV input summary provided above.]\n",
    "\n",
    "### Carbon Capture Findings\n",
    "(Based on CarbonCaptureResearcher's findings)\n",
    "[Synthesize and elaborate *only* on the carbon capture input summary provided above.]\n",
    "\n",
    "### Overall Conclusion\n",
    "[Provide a brief (1-2 sentence) concluding statement that connects *only* the findings presented above.]\n",
    "\n",
    "Output *only* the structured report following this format. Do not include introductory or concluding phrases outside this structure, and strictly adhere to using only the provided input summary content.\n",
    "\"\"\",\n",
    "    description=\"Combines research findings from parallel agents into a structured, cited report, strictly grounded on provided inputs.\",\n",
    "    # No tools needed for merging\n",
    "    # No output_key needed here, as its direct response is the final output of the sequence\n",
    ")"
   ]
  },
  {
   "cell_type": "code",
   "execution_count": 5,
   "id": "cd32caee",
   "metadata": {},
   "outputs": [],
   "source": [
    "# --- 4. Create the SequentialAgent (Orchestrates the overall flow) ---\n",
    "# This is the main agent that will be run. It first executes the ParallelAgent\n",
    "# to populate the state, and then executes the MergerAgent to produce the final output.\n",
    "sequential_pipeline_agent = SequentialAgent(\n",
    "    name=\"ResearchAndSynthesisPipeline\",\n",
    "    # Run parallel research first, then merge\n",
    "    sub_agents=[parallel_research_agent, merger_agent],\n",
    "    description=\"Coordinates parallel research and synthesizes the results.\"\n",
    ")\n",
    "root_agent = sequential_pipeline_agent"
   ]
  },
  {
   "cell_type": "markdown",
   "id": "89ce3bde",
   "metadata": {},
   "source": [
    "## Notes\n",
    "\n",
    "The original code ends here without an example use of the `root_agent`. "
   ]
  }
 ],
 "metadata": {
  "kernelspec": {
   "display_name": ".venv",
   "language": "python",
   "name": "python3"
  },
  "language_info": {
   "codemirror_mode": {
    "name": "ipython",
    "version": 3
   },
   "file_extension": ".py",
   "mimetype": "text/x-python",
   "name": "python",
   "nbconvert_exporter": "python",
   "pygments_lexer": "ipython3",
   "version": "3.13.5"
  }
 },
 "nbformat": 4,
 "nbformat_minor": 5
}
