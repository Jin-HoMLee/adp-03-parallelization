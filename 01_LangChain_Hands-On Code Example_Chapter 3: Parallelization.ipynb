{
 "cells": [
  {
   "cell_type": "markdown",
   "id": "60f10547",
   "metadata": {},
   "source": [
    "# Chapter 1: Prompt Chaining (Hands-On Code Example)"
   ]
  },
  {
   "cell_type": "markdown",
   "id": "9b420faf",
   "metadata": {},
   "source": [
    "> Adapted and modified from https://docs.google.com/document/d/1XVMp4RcRkoUJTVbrP2foWZX703CUJpWkrhyFU2cfUOA/edit?tab=t.0#heading=h.gzxyfhsu2k1x\n",
    "> \n",
    "> Fr 26 Sep 2025 13:59:18 BST"
   ]
  },
  {
   "cell_type": "markdown",
   "id": "f40024e8",
   "metadata": {},
   "source": [
    "Parallel execution within the LangChain framework is facilitated by the LangChain Expression Language (LCEL). The primary method involves structuring multiple runnable components within a dictionary or list construct. When this collection is passed as input to a subsequent component in the chain, the LCEL runtime executes the contained runnables concurrently.\n",
    "\n",
    "In the context of LangGraph, this principle is applied to the graph's topology. Parallel workflows are defined by architecting the graph such that multiple nodes, lacking direct sequential dependencies, can be initiated from a single common node. These parallel pathways execute independently before their results can be aggregated at a subsequent convergence point in the graph.\n",
    "\n",
    "The following implementation demonstrates a parallel processing workflow constructed with the LangChain framework. This workflow is designed to execute two independent operations concurrently in response to a single user query. These parallel processes are instantiated as distinct chains or functions, and their respective outputs are subsequently aggregated into a unified result.\n",
    "\n",
    "The prerequisites for this implementation include the installation of the requisite Python packages, such as langchain, langchain-community, and a model provider library like langchain-openai. Furthermore, a valid API key for the chosen language model must be configured in the local environment for authentication."
   ]
  },
  {
   "cell_type": "code",
   "execution_count": 1,
   "id": "d65aff99",
   "metadata": {},
   "outputs": [],
   "source": [
    "import os\n",
    "import asyncio\n",
    "from typing import Optional\n",
    "\n",
    "from langchain_openai import ChatOpenAI\n",
    "from langchain_core.prompts import ChatPromptTemplate\n",
    "from langchain_core.output_parsers import StrOutputParser\n",
    "from langchain_core.runnables import Runnable, RunnableParallel, RunnablePassthrough"
   ]
  },
  {
   "cell_type": "code",
   "execution_count": 2,
   "id": "d7e95320",
   "metadata": {},
   "outputs": [],
   "source": [
    "# --- Configuration ---\n",
    "# Ensure your API key environment variable is set (e.g., OPENAI_API_KEY)\n",
    "try:\n",
    "   llm: Optional[ChatOpenAI] = ChatOpenAI(model=\"gpt-4o-mini\", temperature=0.7)\n",
    "  \n",
    "except Exception as e:\n",
    "   print(f\"Error initializing language model: {e}\")\n",
    "   llm = None"
   ]
  },
  {
   "cell_type": "code",
   "execution_count": 3,
   "id": "b6815973",
   "metadata": {},
   "outputs": [],
   "source": [
    "# --- Define Independent Chains ---\n",
    "# These three chains represent distinct tasks that can be executed in parallel.\n",
    "\n",
    "summarize_chain: Runnable = (\n",
    "   ChatPromptTemplate.from_messages([\n",
    "       (\"system\", \"Summarize the following topic concisely:\"),\n",
    "       (\"user\", \"{topic}\")\n",
    "   ])\n",
    "   | llm\n",
    "   | StrOutputParser()\n",
    ")\n",
    "\n",
    "questions_chain: Runnable = (\n",
    "   ChatPromptTemplate.from_messages([\n",
    "       (\"system\", \"Generate three interesting questions about the following topic:\"),\n",
    "       (\"user\", \"{topic}\")\n",
    "   ])\n",
    "   | llm\n",
    "   | StrOutputParser()\n",
    ")\n",
    "\n",
    "terms_chain: Runnable = (\n",
    "   ChatPromptTemplate.from_messages([\n",
    "       (\"system\", \"Identify 5-10 key terms from the following topic, separated by commas:\"),\n",
    "       (\"user\", \"{topic}\")\n",
    "   ])\n",
    "   | llm\n",
    "   | StrOutputParser()\n",
    ")"
   ]
  },
  {
   "cell_type": "code",
   "execution_count": 4,
   "id": "8dc46a70",
   "metadata": {},
   "outputs": [],
   "source": [
    "# --- Build the Parallel + Synthesis Chain ---\n",
    "\n",
    "# 1. Define the block of tasks to run in parallel. The results of these,\n",
    "#    along with the original topic, will be fed into the next step.\n",
    "map_chain = RunnableParallel(\n",
    "   {\n",
    "       \"summary\": summarize_chain,\n",
    "       \"questions\": questions_chain,\n",
    "       \"key_terms\": terms_chain,\n",
    "       \"topic\": RunnablePassthrough(),  # Pass the original topic through\n",
    "   }\n",
    ")\n",
    "\n",
    "# 2. Define the final synthesis prompt which will combine the parallel results.\n",
    "synthesis_prompt = ChatPromptTemplate.from_messages([\n",
    "   (\"system\", \"\"\"Based on the following information:\n",
    "    Summary: {summary}\n",
    "    Related Questions: {questions}\n",
    "    Key Terms: {key_terms}\n",
    "    Synthesize a comprehensive answer.\"\"\"),\n",
    "   (\"user\", \"Original topic: {topic}\")\n",
    "])\n",
    "\n",
    "# 3. Construct the full chain by piping the parallel results directly\n",
    "#    into the synthesis prompt, followed by the LLM and output parser.\n",
    "full_parallel_chain = map_chain | synthesis_prompt | llm | StrOutputParser()"
   ]
  },
  {
   "cell_type": "code",
   "execution_count": 5,
   "id": "bbc71cc9",
   "metadata": {},
   "outputs": [],
   "source": [
    "# --- Run the Chain ---\n",
    "async def run_parallel_example(topic: str) -> None:\n",
    "   \"\"\"\n",
    "   Asynchronously invokes the parallel processing chain with a specific topic\n",
    "   and prints the synthesized result.\n",
    "\n",
    "   Args:\n",
    "       topic: The input topic to be processed by the LangChain chains.\n",
    "   \"\"\"\n",
    "   if not llm:\n",
    "       print(\"LLM not initialized. Cannot run example.\")\n",
    "       return\n",
    "\n",
    "   print(f\"\\n--- Running Parallel LangChain Example for Topic: '{topic}' ---\")\n",
    "   try:\n",
    "       # The input to `ainvoke` is the single 'topic' string, \n",
    "       # then passed to each runnable in the `map_chain`.\n",
    "       response = await full_parallel_chain.ainvoke(topic)\n",
    "       print(\"\\n--- Final Response ---\")\n",
    "       print(response)\n",
    "   except Exception as e:\n",
    "       print(f\"\\nAn error occurred during chain execution: {e}\")\n"
   ]
  },
  {
   "cell_type": "code",
   "execution_count": 6,
   "id": "efe9311a",
   "metadata": {},
   "outputs": [
    {
     "ename": "RuntimeError",
     "evalue": "asyncio.run() cannot be called from a running event loop",
     "output_type": "error",
     "traceback": [
      "\u001b[31m---------------------------------------------------------------------------\u001b[39m",
      "\u001b[31mRuntimeError\u001b[39m                              Traceback (most recent call last)",
      "\u001b[36mCell\u001b[39m\u001b[36m \u001b[39m\u001b[32mIn[6]\u001b[39m\u001b[32m, line 4\u001b[39m\n\u001b[32m      2\u001b[39m test_topic = \u001b[33m\"\u001b[39m\u001b[33mThe history of space exploration\u001b[39m\u001b[33m\"\u001b[39m\n\u001b[32m      3\u001b[39m \u001b[38;5;66;03m# In Python 3.7+, asyncio.run is the standard way to run an async function.\u001b[39;00m\n\u001b[32m----> \u001b[39m\u001b[32m4\u001b[39m \u001b[43masyncio\u001b[49m\u001b[43m.\u001b[49m\u001b[43mrun\u001b[49m\u001b[43m(\u001b[49m\u001b[43mrun_parallel_example\u001b[49m\u001b[43m(\u001b[49m\u001b[43mtest_topic\u001b[49m\u001b[43m)\u001b[49m\u001b[43m)\u001b[49m\n",
      "\u001b[36mFile \u001b[39m\u001b[32m~/.pyenv/versions/3.13.5/lib/python3.13/asyncio/runners.py:191\u001b[39m, in \u001b[36mrun\u001b[39m\u001b[34m(main, debug, loop_factory)\u001b[39m\n\u001b[32m    161\u001b[39m \u001b[38;5;250m\u001b[39m\u001b[33;03m\"\"\"Execute the coroutine and return the result.\u001b[39;00m\n\u001b[32m    162\u001b[39m \n\u001b[32m    163\u001b[39m \u001b[33;03mThis function runs the passed coroutine, taking care of\u001b[39;00m\n\u001b[32m   (...)\u001b[39m\u001b[32m    187\u001b[39m \u001b[33;03m    asyncio.run(main())\u001b[39;00m\n\u001b[32m    188\u001b[39m \u001b[33;03m\"\"\"\u001b[39;00m\n\u001b[32m    189\u001b[39m \u001b[38;5;28;01mif\u001b[39;00m events._get_running_loop() \u001b[38;5;129;01mis\u001b[39;00m \u001b[38;5;129;01mnot\u001b[39;00m \u001b[38;5;28;01mNone\u001b[39;00m:\n\u001b[32m    190\u001b[39m     \u001b[38;5;66;03m# fail fast with short traceback\u001b[39;00m\n\u001b[32m--> \u001b[39m\u001b[32m191\u001b[39m     \u001b[38;5;28;01mraise\u001b[39;00m \u001b[38;5;167;01mRuntimeError\u001b[39;00m(\n\u001b[32m    192\u001b[39m         \u001b[33m\"\u001b[39m\u001b[33masyncio.run() cannot be called from a running event loop\u001b[39m\u001b[33m\"\u001b[39m)\n\u001b[32m    194\u001b[39m \u001b[38;5;28;01mwith\u001b[39;00m Runner(debug=debug, loop_factory=loop_factory) \u001b[38;5;28;01mas\u001b[39;00m runner:\n\u001b[32m    195\u001b[39m     \u001b[38;5;28;01mreturn\u001b[39;00m runner.run(main)\n",
      "\u001b[31mRuntimeError\u001b[39m: asyncio.run() cannot be called from a running event loop"
     ]
    }
   ],
   "source": [
    "if __name__ == \"__main__\":\n",
    "   test_topic = \"The history of space exploration\"\n",
    "   # In Python 3.7+, asyncio.run is the standard way to run an async function.\n",
    "   asyncio.run(run_parallel_example(test_topic))"
   ]
  },
  {
   "cell_type": "markdown",
   "id": "f6580458",
   "metadata": {},
   "source": [
    "The original code results in an error because asyncio.run() cannot be called from within a Jupyter notebook, which already runs in an event loop. In Jupyter notebooks, you should use await directly instead of asyncio.run(). "
   ]
  },
  {
   "cell_type": "code",
   "execution_count": 7,
   "id": "82cc0cfd",
   "metadata": {},
   "outputs": [
    {
     "name": "stdout",
     "output_type": "stream",
     "text": [
      "\n",
      "--- Running Parallel LangChain Example for Topic: 'The history of space exploration' ---\n",
      "\n",
      "--- Final Response ---\n",
      "The history of space exploration is a remarkable narrative that unfolds from the mid-20th century, fundamentally influenced by geopolitical dynamics, technological advancements, and the innate human curiosity to explore the unknown.\n",
      "\n",
      "The journey began in earnest with the launch of the Soviet satellite Sputnik 1 in 1957, an event that not only marked the dawn of the Space Age but also initiated the intense competition known as the Space Race between the United States and the Soviet Union. This rivalry shaped many early milestones in space exploration, with key missions such as Yuri Gagarin's historic flight in 1961, which made him the first human to travel into space. The United States responded with its own milestones, most notably the Apollo program, culminating in the Apollo 11 mission that successfully landed astronauts Neil Armstrong and Buzz Aldrin on the Moon in 1969. These achievements were not merely technological triumphs but also significant political statements during the Cold War.\n",
      "\n",
      "As the Cold War tensions began to ease, collaborative efforts in space exploration emerged, exemplified by the development of space stations like Mir and the International Space Station (ISS). These platforms have facilitated long-term human presence in space and international cooperation in scientific research.\n",
      "\n",
      "In addition to human exploration, robotic missions have played a pivotal role in expanding our understanding of the universe. The Voyager probes, launched in the late 1970s, have provided invaluable data about the outer planets and interstellar space. Mars rovers, equipped with advanced technology, have explored the Martian surface, searching for signs of past life and gathering information on the planet's geology. The Hubble Space Telescope has revolutionized our understanding of the cosmos, capturing breathtaking images and providing insights into the formation and evolution of galaxies.\n",
      "\n",
      "As we progress into the 21st century, the landscape of space exploration is changing again, with private companies entering the arena. This shift is fostering advancements in commercial space travel and exploration, potentially democratizing access to space and paving the way for future missions to the Moon, Mars, and beyond.\n",
      "\n",
      "Looking ahead, the future of space exploration raises important ethical considerations, especially regarding the potential colonization of other planets. As we contemplate sending humans to Mars or establishing bases on the Moon, we must address questions of environmental stewardship, planetary protection, and the potential impact on any existing ecosystems. Ensuring that these efforts are conducted responsibly and sustainably is crucial for maintaining the integrity of both our home planet and the celestial bodies we aim to explore.\n",
      "\n",
      "In summary, the history of space exploration is marked by significant milestones driven by human ingenuity and international rivalry. It reflects not only our technological advancements—such as satellite technology and deep space missions—but also our ethical responsibilities as we venture into the cosmos. The ongoing exploration of space continues to inspire and challenge us, urging us to consider not just what we can achieve, but how we should proceed in our quest to understand the universe.\n",
      "\n",
      "--- Final Response ---\n",
      "The history of space exploration is a remarkable narrative that unfolds from the mid-20th century, fundamentally influenced by geopolitical dynamics, technological advancements, and the innate human curiosity to explore the unknown.\n",
      "\n",
      "The journey began in earnest with the launch of the Soviet satellite Sputnik 1 in 1957, an event that not only marked the dawn of the Space Age but also initiated the intense competition known as the Space Race between the United States and the Soviet Union. This rivalry shaped many early milestones in space exploration, with key missions such as Yuri Gagarin's historic flight in 1961, which made him the first human to travel into space. The United States responded with its own milestones, most notably the Apollo program, culminating in the Apollo 11 mission that successfully landed astronauts Neil Armstrong and Buzz Aldrin on the Moon in 1969. These achievements were not merely technological triumphs but also significant political statements during the Cold War.\n",
      "\n",
      "As the Cold War tensions began to ease, collaborative efforts in space exploration emerged, exemplified by the development of space stations like Mir and the International Space Station (ISS). These platforms have facilitated long-term human presence in space and international cooperation in scientific research.\n",
      "\n",
      "In addition to human exploration, robotic missions have played a pivotal role in expanding our understanding of the universe. The Voyager probes, launched in the late 1970s, have provided invaluable data about the outer planets and interstellar space. Mars rovers, equipped with advanced technology, have explored the Martian surface, searching for signs of past life and gathering information on the planet's geology. The Hubble Space Telescope has revolutionized our understanding of the cosmos, capturing breathtaking images and providing insights into the formation and evolution of galaxies.\n",
      "\n",
      "As we progress into the 21st century, the landscape of space exploration is changing again, with private companies entering the arena. This shift is fostering advancements in commercial space travel and exploration, potentially democratizing access to space and paving the way for future missions to the Moon, Mars, and beyond.\n",
      "\n",
      "Looking ahead, the future of space exploration raises important ethical considerations, especially regarding the potential colonization of other planets. As we contemplate sending humans to Mars or establishing bases on the Moon, we must address questions of environmental stewardship, planetary protection, and the potential impact on any existing ecosystems. Ensuring that these efforts are conducted responsibly and sustainably is crucial for maintaining the integrity of both our home planet and the celestial bodies we aim to explore.\n",
      "\n",
      "In summary, the history of space exploration is marked by significant milestones driven by human ingenuity and international rivalry. It reflects not only our technological advancements—such as satellite technology and deep space missions—but also our ethical responsibilities as we venture into the cosmos. The ongoing exploration of space continues to inspire and challenge us, urging us to consider not just what we can achieve, but how we should proceed in our quest to understand the universe.\n"
     ]
    }
   ],
   "source": [
    "# In Jupyter notebooks, we can use await directly instead of asyncio.run()\n",
    "# since the notebook already runs in an event loop\n",
    "test_topic = \"The history of space exploration\"\n",
    "await run_parallel_example(test_topic)"
   ]
  }
 ],
 "metadata": {
  "kernelspec": {
   "display_name": ".venv",
   "language": "python",
   "name": "python3"
  },
  "language_info": {
   "codemirror_mode": {
    "name": "ipython",
    "version": 3
   },
   "file_extension": ".py",
   "mimetype": "text/x-python",
   "name": "python",
   "nbconvert_exporter": "python",
   "pygments_lexer": "ipython3",
   "version": "3.13.5"
  }
 },
 "nbformat": 4,
 "nbformat_minor": 5
}
